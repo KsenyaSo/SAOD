{
 "cells": [
  {
   "cell_type": "markdown",
   "metadata": {},
   "source": [
    "# Задача 1. «Треугольник с максимальным периметром»\n",
    "Массив A состоит из целых положительных чисел длин отрезков. Составьте из трех отрезков такой треугольник, чтобы его периметр был максимально возможным. Если невозможно составить треугольник с положительной площадью функция возвращает 0."
   ]
  },
  {
   "cell_type": "code",
   "execution_count": 8,
   "metadata": {},
   "outputs": [
    {
     "name": "stdout",
     "output_type": "stream",
     "text": [
      "[2, 1, 2] --> Максимальный периметр: 5\n",
      "[1, 2, 1] --> Треугольника не существует: 0\n",
      "[3, 2, 3, 4] --> Максимальный периметр: 10\n",
      "[3, 6, 2, 3] --> Максимальный периметр: 8\n"
     ]
    }
   ],
   "source": [
    "def maxPerimeter(arr):\n",
    "    maximum = 0\n",
    "    n = len(arr)\n",
    "    for i in range(n - 2):\n",
    "        for j in range(i + 1, n - 1):\n",
    "            for k in range(j + 1, n):  \n",
    "                # a, b, c - 3 стороны\n",
    "                a = arr[i]\n",
    "                b = arr[j]\n",
    "                c = arr[k]\n",
    "                if(a < b + c and b < a + c \n",
    "                             and c < a + b):\n",
    "                    maximum = max(maximum, a + b + c)\n",
    "    if(maximum == 0):\n",
    "        return (\"Треугольника не существует: \"+ str(maximum))\n",
    "    else:\n",
    "        return (\"Максимальный периметр: \"+ str(maximum))    \n",
    "    \n",
    "arr = [2, 1, 2]\n",
    "print(arr,\"-->\", maxPerimeter(arr))\n",
    "arr = [1, 2, 1]\n",
    "print(arr,\"-->\", maxPerimeter(arr))\n",
    "arr = [3, 2, 3, 4]\n",
    "print(arr,\"-->\", maxPerimeter(arr))\n",
    "arr = [3, 6, 2, 3]\n",
    "print(arr,\"-->\", maxPerimeter(arr))"
   ]
  },
  {
   "cell_type": "markdown",
   "metadata": {},
   "source": [
    "# Задача 2. «Максимальное число»\n",
    "Дан массив неотрицательных целых чисел nums. Расположите их в таком порядке, чтобы вместе они образовали максимально возможное число."
   ]
  },
  {
   "cell_type": "code",
   "execution_count": 6,
   "metadata": {},
   "outputs": [
    {
     "name": "stdout",
     "output_type": "stream",
     "text": [
      "[10, 2] --> 210\n",
      "[3, 30, 34, 5, 9] --> 9534330\n",
      "[1] --> 1\n",
      "[10] --> 10\n"
     ]
    }
   ],
   "source": [
    "def maxNum(nums):\n",
    "    # Сортировка по остатку от деления на 10 с флагом reverse\n",
    "    nums.sort(key=lambda n: n % 10, reverse=True)\n",
    "    \n",
    "    res = ''.join(str(e) for e in nums)\n",
    "    return res\n",
    "\n",
    "print(\"[10, 2] -->\", maxNum([10, 2]))\n",
    "print(\"[3, 30, 34, 5, 9] -->\", maxNum([3, 30, 34, 5, 9]))\n",
    "print(\"[1] -->\", maxNum([1]))\n",
    "print(\"[10] -->\", maxNum([10]))"
   ]
  },
  {
   "cell_type": "markdown",
   "metadata": {},
   "source": [
    "# Задача 3. «Сортировка диагоналей в матрице»\n",
    "Дана матрица mat размером m * n, значения целочисленные. Напишите функцию, сортирующую каждую диагональ матрицы по возрастанию и возвращающую получившуюся матрицу."
   ]
  },
  {
   "cell_type": "code",
   "execution_count": 2,
   "metadata": {},
   "outputs": [
    {
     "name": "stdout",
     "output_type": "stream",
     "text": [
      "matrix:\n",
      "[3, 3, 1, 1]\n",
      "[2, 2, 1, 2]\n",
      "[1, 1, 1, 2]\n",
      "\n",
      "Sorted: \n",
      "[1, 1, 1, 1]\n",
      "[1, 2, 2, 2]\n",
      "[1, 2, 3, 3]\n",
      "\n",
      "matrix:\n",
      "[11, 25, 66, 1, 69, 7]\n",
      "[23, 55, 17, 45, 15, 52]\n",
      "[75, 31, 36, 44, 58, 8]\n",
      "[22, 27, 33, 25, 68, 4]\n",
      "[84, 28, 14, 11, 5, 50]\n",
      "\n",
      "Sorted: \n",
      "[5, 17, 4, 1, 52, 7]\n",
      "[11, 11, 25, 45, 8, 69]\n",
      "[14, 23, 25, 44, 58, 15]\n",
      "[22, 27, 31, 36, 50, 66]\n",
      "[84, 28, 75, 33, 55, 68]\n"
     ]
    }
   ],
   "source": [
    "def sortir(matrix):\n",
    "    m, n = len(matrix), len(matrix[0])\n",
    "    temp = [[] for i in range(m+n)]\n",
    "    # Добавляем каждую диагональ в массив t\n",
    "    for i in range(m):\n",
    "        for j in range(n):\n",
    "            temp[i - j].append(matrix[i][j])\n",
    "    # Сортируем каждую диагональ массива\n",
    "    for line in temp:\n",
    "        line.sort(reverse = True)\n",
    "    # \"Линии\" в диагонали матрицы\n",
    "    for i in range(m):\n",
    "        for j in range(n):\n",
    "            # pop() удаляет последний элемент массива и возвращает его\n",
    "            matrix[i][j] = temp[i-j].pop()\n",
    "    return matrix\n",
    "\n",
    "\n",
    "arr = [[3,3,1,1], [2,2,1,2], [1,1,1,2]]\n",
    "print(\"matrix:\")\n",
    "for l in arr:\n",
    "    print(l) \n",
    "print(\"\\nSorted: \")\n",
    "arr = sortir(arr)\n",
    "for l in arr:\n",
    "    print(l)\n",
    "arr = [[11, 25, 66, 1, 69, 7], [23, 55, 17, 45, 15, 52], [75, 31, 36, 44, 58, 8], [22, 27, 33, 25, 68, 4], [84, 28, 14, 11, 5, 50]]\n",
    "print(\"\\nmatrix:\")\n",
    "for l in arr:\n",
    "    print(l)\n",
    "    \n",
    "print(\"\\nSorted: \")\n",
    "arr = sortir(arr)\n",
    "for l in arr:\n",
    "    print(l)"
   ]
  },
  {
   "cell_type": "markdown",
   "metadata": {},
   "source": [
    "Задача на проверку аннограммы, давалось на практическом занятии"
   ]
  },
  {
   "cell_type": "code",
   "execution_count": 4,
   "metadata": {},
   "outputs": [
    {
     "name": "stdout",
     "output_type": "stream",
     "text": [
      "True\n"
     ]
    }
   ],
   "source": [
    "def anagram(s,t):\n",
    "    alist1=list(s)\n",
    "    alist2=list(t)\n",
    "\n",
    "    alist1.sort()\n",
    "    alist2.sort()\n",
    "\n",
    "    pos=0\n",
    "    matches=True\n",
    "\n",
    "    while pos<len(s) and matches:\n",
    "        if alist1[pos]==alist2[pos]:\n",
    "            pos=pos+1\n",
    "        else:\n",
    "            matches=False\n",
    "\n",
    "    return matches\n",
    "\n",
    "print(anagram('anagram','nagaram'))"
   ]
  }
 ],
 "metadata": {
  "kernelspec": {
   "display_name": "Python 3",
   "language": "python",
   "name": "python3"
  },
  "language_info": {
   "codemirror_mode": {
    "name": "ipython",
    "version": 3
   },
   "file_extension": ".py",
   "mimetype": "text/x-python",
   "name": "python",
   "nbconvert_exporter": "python",
   "pygments_lexer": "ipython3",
   "version": "3.8.5"
  }
 },
 "nbformat": 4,
 "nbformat_minor": 4
}
