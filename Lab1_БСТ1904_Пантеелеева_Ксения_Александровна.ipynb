{
 "cells": [
  {
   "cell_type": "markdown",
   "metadata": {},
   "source": [
    "# Лаборатоная работа №1 \n",
    "## Выполнила студентка группы БСТ1904 Пантелеева К.А.\n",
    "### Задание №1\n",
    "1. Создать Jupyter Notebook со следующим наименованием: Lab1_Группа_ФИО\n",
    "2. Создать новую ячейку с помощью кнопки\n",
    "3. В созданной ячейке по указанной ниже форме заполните оглавление файла, заменив наименование группы и вписав свое ФИО, Рисунок 1 - Форма оглавления файла в ячейке после чего создайте еще одну ячейку и напишите следующий код:\n",
    "4. С помощью кнопки запустите выполнение всех ячеек.\n",
    "5. После выполнения у вас должна отформатироваться ячейка с оглавлением и должен выполниться “Hello, World!” (см. рис. 2)"
   ]
  },
  {
   "cell_type": "code",
   "execution_count": 1,
   "metadata": {},
   "outputs": [
    {
     "name": "stdout",
     "output_type": "stream",
     "text": [
      "Hello, World!\n"
     ]
    }
   ],
   "source": [
    "print(\"Hello, World!\")"
   ]
  },
  {
   "cell_type": "markdown",
   "metadata": {},
   "source": [
    "### Задание 2\n",
    "Написать генератор случайных матриц(многомерных), который принимает опциональные параметры m, n, min_limit, max_limit, где m и n указывают размер матрицы, а min_lim и max_lim - минимальное и максимальное значение для генерируемого числа . По умолчанию при отсутствии параметров принимать следующие значения:\n",
    "m = 50\n",
    "n = 50\n",
    "min_limit = -250\n",
    "max_limit = 1000 + (номер своего варианта)"
   ]
  },
  {
   "cell_type": "code",
   "execution_count": 4,
   "metadata": {},
   "outputs": [],
   "source": [
    "import random\n",
    "m=50\n",
    "n=50\n",
    "min_limit=-250\n",
    "max_limit=1014\n",
    "a=[[0]*n for i in range(m)]\n",
    "for i in range(m):\n",
    "    for j in range(n):\n",
    "        a[i][j]=random.randint(min_limit, max_limit)\n"
   ]
  },
  {
   "attachments": {
    "image-2.png": {
     "image/png": "[encoded data removed]"
    }
   },
   "cell_type": "markdown",
   "metadata": {},
   "source": [
    "### Задание 3\n",
    "Реализовать методы сортировки строк числовой матрицы в соответствии с заданием. Оценить время работы каждого алгоритма сортировки и сравнить его со временем стандартной функции сортировки. Испытания проводить на сгенерированных матрицах.\n",
    "\n",
    "Методы:\n",
    "![image-2.png](attachment:image-2.png)"
   ]
  },
  {
   "cell_type": "code",
   "execution_count": 5,
   "metadata": {},
   "outputs": [],
   "source": [
    "# Сортировка выбором\n",
    "def selection_sort(arr):\n",
    "    for i, e in enumerate(arr):\n",
    "        mn = min(range(i, len(arr)), key=arr.__getitem__)\n",
    "        arr[i], arr[mn] = arr[mn], e\n",
    "    return arr"
   ]
  },
  {
   "cell_type": "code",
   "execution_count": 6,
   "metadata": {},
   "outputs": [],
   "source": [
    "# Сортировка вставкой\n",
    "def insertion_sort(arr):\n",
    "    for i in range(1, len(arr)):\n",
    "        j = i - i\n",
    "        while j >= 0 and arr[i] < arr[j]: \n",
    "            arr[j + 1] = arr[j]\n",
    "            j = j - 1\n",
    "        arr[j + 1] = arr[i]"
   ]
  },
  {
   "cell_type": "code",
   "execution_count": 7,
   "metadata": {},
   "outputs": [],
   "source": [
    "# Сортировка обменом\n",
    "def bubble_sort(arr):\n",
    "    for i in range(len(arr)):\n",
    "        for j in range(0, len(arr)-i-1): \n",
    "            if arr[j] > arr[j+1] : \n",
    "                arr[j], arr[j+1] = arr[j+1], arr[j]"
   ]
  },
  {
   "cell_type": "code",
   "execution_count": 8,
   "metadata": {},
   "outputs": [],
   "source": [
    "# Сортировка Шелла\n",
    "def shell_sort(arr):\n",
    "    last_index = len(arr) - 1\n",
    "    step = len(arr) // 2\n",
    "    while step > 0:\n",
    "        for i in range(step, last_index + 1, 1):\n",
    "            j = i\n",
    "            delta = j - step\n",
    "            while delta >= 0 and arr[delta] > arr[j]:\n",
    "                arr[delta], arr[j] = arr[j], arr[delta]\n",
    "                j = delta\n",
    "                delta = j - step\n",
    "        step //= 2"
   ]
  },
  {
   "cell_type": "code",
   "execution_count": 9,
   "metadata": {},
   "outputs": [],
   "source": [
    "# Турнирная сортировка\n",
    "def tournir_sort(arr):\n",
    "    tree = [None] * 2 * (len(arr) + len(arr) % 2)\n",
    "    index = len(tree) - len(arr) - len(arr) % 2\n",
    "    for i, v in enumerate(arr):\n",
    "        tree[index + i] = (i, v)\n",
    "    for j in range(len(arr)):\n",
    "        n = len(arr)\n",
    "        index = len(tree) - len(arr) - len(arr) % 2\n",
    "        while index > -1:\n",
    "            n = (n + 1) // 2\n",
    "            for i in range(n):\n",
    "                i = max(index + i * 2, 1) # на последней итерация index + i * 2 = 0\n",
    "                if tree[i] != None and tree[i + 1] != None:\n",
    "                    if tree[i][1] < tree[i + 1][1]:\n",
    "                        tree[i // 2] = tree[i]\n",
    "                    else:\n",
    "                        tree[i // 2] = tree[i + 1]\n",
    "                else:\n",
    "                    tree[i // 2] = tree[i] if tree[i] != None else tree[i + 1]\n",
    "            index -= n\n",
    "\n",
    "        index, x = tree[0]\n",
    "        arr[j] = x\n",
    "        tree[len(tree) - len(arr) - len(arr) % 2 + index] = None"
   ]
  },
  {
   "cell_type": "code",
   "execution_count": 10,
   "metadata": {},
   "outputs": [],
   "source": [
    "# Быстрая сортировка\n",
    "def quick_sort(arr, first=0, last=None):\n",
    "    if last == None:\n",
    "        last = len(arr) - 1    \n",
    "    if first >= last:\n",
    "        return\n",
    "    i, j = first, last\n",
    "    pivot = arr[(last + first) // 2]\n",
    " \n",
    "    while i <= j:\n",
    "        while arr[i] < pivot: i += 1\n",
    "        while arr[j] > pivot: j -= 1\n",
    "        if i <= j:\n",
    "            arr[i], arr[j] = arr[j], arr[i]\n",
    "            i, j = i + 1, j - 1\n",
    "            \n",
    "    quick_sort(arr, first, j)\n",
    "    quick_sort(arr, i, last)"
   ]
  },
  {
   "cell_type": "code",
   "execution_count": 11,
   "metadata": {},
   "outputs": [],
   "source": [
    "# Пирамидальная сортировка\n",
    "def heapkycha(arr, n, i):\n",
    "    largest = i\n",
    "    left = 2 * i + 1\n",
    "    right = 2 * i + 2\n",
    "\n",
    "    if left < n and arr[i] < arr[left]:\n",
    "        largest = left\n",
    "\n",
    "    if right < n and arr[largest] < arr[right]:\n",
    "        largest = right\n",
    "\n",
    "    if largest != i:\n",
    "        arr[i], arr[largest] = arr[largest], arr[i]\n",
    "\n",
    "        heapkycha(arr, n, largest)\n",
    "\n",
    "def heapsort(arr):\n",
    "    n = len(arr)\n",
    "\n",
    "    for i in range(n, -1, -1):\n",
    "        heapkycha(arr, n, i)\n",
    "\n",
    "    for i in range(n-1, 0, -1):\n",
    "        arr[i], arr[0] = arr[0], arr[i] \n",
    "        heapkycha(arr, i, 0)"
   ]
  },
  {
   "cell_type": "code",
   "execution_count": 12,
   "metadata": {},
   "outputs": [
    {
     "name": "stdout",
     "output_type": "stream",
     "text": [
      "Алгоритм                      Время\n",
      "-----------------------------------\n",
      "Сортировка вставкой           0.0005067640000015671\n",
      "Быстрая сортировка            0.002702263999999559\n",
      "Cортировка Шелла              0.0044148080000013575\n",
      "Пирамидальная сортировка      0.007237141999994492\n",
      "Сортировка выбором            0.048701247999997574\n",
      "Сортировка обменом            0.13251749800000653\n",
      "Турнирная сортировка          1.3907736939999995\n"
     ]
    }
   ],
   "source": [
    "import random\n",
    "import time\n",
    "\n",
    "SORT_FUNCTIONS = {\n",
    "    'Сортировка выбором': selection_sort,\n",
    "    'Сортировка вставкой': insertion_sort,\n",
    "    'Сортировка обменом': bubble_sort,\n",
    "    'Cортировка Шелла': shell_sort,\n",
    "    'Турнирная сортировка': tournir_sort,\n",
    "    'Быстрая сортировка': quick_sort,\n",
    "    'Пирамидальная сортировка': heapsort\n",
    "}\n",
    "\n",
    "def print_comparison(comparison):\n",
    "    largest_name_len = len(max(comparison.keys(), key=len))\n",
    "    largest_name_len = largest_name_len + 6\n",
    "\n",
    "    heading = 'Алгоритм'.ljust(largest_name_len) + 'Время'\n",
    "    print(heading)\n",
    "    print('-' * len(heading))\n",
    "    for algo, time_taken in comparison.items():\n",
    "        print(f'{algo:<{largest_name_len}}{time_taken}')\n",
    "\n",
    "time_taken = {}\n",
    "samples = random_matrix(50, 1000)\n",
    "for algo_name, sorter in SORT_FUNCTIONS.items():\n",
    "    samples_copy = samples.copy()\n",
    "    start = time.perf_counter()\n",
    "    for sample in samples_copy:\n",
    "        sorter(sample)\n",
    "    end = time.perf_counter()\n",
    "\n",
    "    time_taken[algo_name] = (end - start) / len(samples)\n",
    "\n",
    "time_taken_sorted = dict(sorted(time_taken.items(), key=lambda kv: kv[1]))\n",
    "print_comparison(time_taken_sorted)"
   ]
  },
  {
   "cell_type": "markdown",
   "metadata": {},
   "source": [
    "### Задание 4\n",
    "Создать публичный репозиторий на github, и запушить выполненное задание в .ipynb формате.\n",
    "https://github.com/KsenyaSo/SAOD"
   ]
  },
  {
   "cell_type": "code",
   "execution_count": null,
   "metadata": {},
   "outputs": [],
   "source": []
  }
 ],
 "metadata": {
  "kernelspec": {
   "display_name": "Python 3",
   "language": "python",
   "name": "python3"
  },
  "language_info": {
   "codemirror_mode": {
    "name": "ipython",
    "version": 3
   },
   "file_extension": ".py",
   "mimetype": "text/x-python",
   "name": "python",
   "nbconvert_exporter": "python",
   "pygments_lexer": "ipython3",
   "version": "3.8.5"
  }
 },
 "nbformat": 4,
 "nbformat_minor": 4
}
